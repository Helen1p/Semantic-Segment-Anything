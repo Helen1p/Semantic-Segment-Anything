{
 "cells": [
  {
   "cell_type": "code",
   "execution_count": 1,
   "metadata": {},
   "outputs": [],
   "source": [
    "import mmcv\n",
    "import numpy as np\n",
    "from PIL import Image, ImageFilter\n",
    "import skimage.morphology\n",
    "from scipy import ndimage\n",
    "import random\n",
    "from skimage import color,filters,io\n",
    "from sklearn.preprocessing import normalize\n",
    "import io\n",
    "from scipy.interpolate import UnivariateSpline\n",
    "import PIL\n",
    "from scipy import interpolate\n",
    "import skimage\n",
    "import cv2\n",
    "import os\n",
    "from x_distortion import add_distortion, multi_distortions_dict, distortions_dict"
   ]
  },
  {
   "cell_type": "code",
   "execution_count": 2,
   "metadata": {},
   "outputs": [],
   "source": [
    "img = cv2.cvtColor(mmcv.imread('/root/autodl-tmp/example/kadis_HR/koala-185736.png'), cv2.COLOR_BGR2RGB)"
   ]
  },
  {
   "cell_type": "code",
   "execution_count": 9,
   "metadata": {},
   "outputs": [],
   "source": [
    "img1=add_distortion(img=img, severity=4, distortion_name='noise_impulse')\n",
    "# img2=add_distortion(img=img1, severity=4, distortion_name='contrast_weaken_scale')\n",
    "# img=add_distortion(img=img, severity=4, distortion_name='quantization_hist') # 最多和第一个一样\n",
    "# img=add_distortion(img=img, severity=2, distortion_name='compression_jpeg') # 最多比第一个大1\n",
    "# img=add_distortion(img=img, severity=1,2, distortion_name='blur_gaussian') # 第二个时只能是1,2\n",
    "# blur_gaussian contrast_weaken_scale 先后顺序结果一样"
   ]
  },
  {
   "cell_type": "code",
   "execution_count": null,
   "metadata": {},
   "outputs": [],
   "source": [
    "Image.fromarray(img1)"
   ]
  },
  {
   "cell_type": "code",
   "execution_count": null,
   "metadata": {},
   "outputs": [],
   "source": []
  }
 ],
 "metadata": {
  "kernelspec": {
   "display_name": "Python 3 (ipykernel)",
   "language": "python",
   "name": "python3"
  },
  "language_info": {
   "codemirror_mode": {
    "name": "ipython",
    "version": 3
   },
   "file_extension": ".py",
   "mimetype": "text/x-python",
   "name": "python",
   "nbconvert_exporter": "python",
   "pygments_lexer": "ipython3",
   "version": "3.10.8"
  }
 },
 "nbformat": 4,
 "nbformat_minor": 4
}
