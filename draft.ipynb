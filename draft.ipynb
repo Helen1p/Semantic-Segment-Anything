{
 "cells": [
  {
   "cell_type": "code",
   "execution_count": 1,
   "metadata": {},
   "outputs": [],
   "source": [
    "import mmcv\n",
    "import numpy as np\n",
    "from PIL import Image, ImageFilter\n",
    "import skimage.morphology\n",
    "from scipy import ndimage\n",
    "import random\n",
    "from skimage import color,filters,io\n",
    "from sklearn.preprocessing import normalize\n",
    "import io\n",
    "from scipy.interpolate import UnivariateSpline\n",
    "import PIL\n",
    "from scipy import interpolate\n",
    "import skimage\n",
    "import cv2\n",
    "import os\n",
    "from x_distortion import add_distortion, multi_distortions_dict, distortions_dict"
   ]
  },
  {
   "cell_type": "code",
   "execution_count": 2,
   "metadata": {},
   "outputs": [],
   "source": [
    "img = cv2.cvtColor(mmcv.imread('/root/autodl-tmp/example/kadis_HR/koala-185736.png'), cv2.COLOR_BGR2RGB)"
   ]
  },
  {
   "cell_type": "code",
   "execution_count": 9,
   "metadata": {},
   "outputs": [],
   "source": [
    "img1=add_distortion(img=img, severity=4, distortion_name='noise_impulse')\n",
    "# img2=add_distortion(img=img1, severity=4, distortion_name='contrast_weaken_scale')\n",
    "# img=add_distortion(img=img, severity=4, distortion_name='quantization_hist') # 最多和第一个一样\n",
    "# img=add_distortion(img=img, severity=2, distortion_name='compression_jpeg') # 最多比第一个大1\n",
    "# img=add_distortion(img=img, severity=1,2, distortion_name='blur_gaussian') # 第二个时只能是1,2\n",
    "# blur_gaussian contrast_weaken_scale 先后顺序结果一样"
   ]
  },
  {
   "cell_type": "code",
   "execution_count": null,
   "metadata": {},
   "outputs": [],
   "source": [
    "Image.fromarray(img1)"
   ]
  },
  {
   "cell_type": "code",
   "execution_count": 2,
   "metadata": {},
   "outputs": [],
   "source": [
    "import json\n",
    "import numpy as np\n",
    "import cv2\n",
    "import pycocotools.mask as maskUtils\n",
    "import os"
   ]
  },
  {
   "cell_type": "code",
   "execution_count": 22,
   "metadata": {},
   "outputs": [],
   "source": [
    "with open('/Users/helenpeng/Desktop/img_in/7345.json', 'r') as f:\n",
    "    output = json.load(f)\n",
    "height, width = output['imageHeight'], output['imageWidth']\n",
    "# caption = output['image_text']\n",
    "name = output['imagePath'].split('.')[0]\n",
    "# 同一个mask分离成2块的就当做两个mask\n",
    "json_file={'annotations':[]}\n",
    "label_list=[]\n",
    "i=output['shapes'][0]\n",
    "every_json_file={}\n",
    "poly = i['points']\n",
    "mask=poly2mask(poly,height,width)\n",
    "all=np.argwhere(mask != 0)\n",
    "x_1=np.min(all[:, 0]).item()\n",
    "y_1=np.min(all[:, 1]).item()\n",
    "x_2=np.max(all[:, 0]).item()\n",
    "y_2=np.max(all[:, 1]).item()\n",
    "bbox=[y_1,x_1,y_2,x_2]\n",
    "rle=singleMask2rle(mask)\n",
    "class_name, distortion = i['label'].split(';')[0],i['label'].split(';')[1:]\n",
    "every_json_file['segmentation']=rle\n",
    "every_json_file['area']=len(all)\n",
    "every_json_file['bbox']=bbox\n",
    "every_json_file['class_name']=class_name\n",
    "every_json_file['distortion']=distortion\n",
    "json_file['annotations'].append(every_json_file)"
   ]
  },
  {
   "cell_type": "code",
   "execution_count": 23,
   "metadata": {},
   "outputs": [],
   "source": [
    "with open('/Users/helenpeng/Desktop/img_in/7345.json', 'r') as f:\n",
    "    output = json.load(f)\n",
    "height, width = output['imageHeight'], output['imageWidth']\n",
    "# caption = output['image_text']\n",
    "name = output['imagePath'].split('.')[0]\n",
    "# 同一个mask分离成2块的就当做两个mask\n",
    "json_file={'annotations':[]}\n",
    "label_list=[]\n",
    "i=output['shapes'][1]\n",
    "every_json_file1={}\n",
    "poly = i['points']\n",
    "mask=poly2mask(poly,height,width)\n",
    "all=np.argwhere(mask != 0)\n",
    "x_1=np.min(all[:, 0]).item()\n",
    "y_1=np.min(all[:, 1]).item()\n",
    "x_2=np.max(all[:, 0]).item()\n",
    "y_2=np.max(all[:, 1]).item()\n",
    "bbox=[y_1,x_1,y_2,x_2]\n",
    "rle=singleMask2rle(mask)\n",
    "class_name, distortion = i['label'].split(';')[0],i['label'].split(';')[1:]\n",
    "every_json_file1['segmentation']=rle\n",
    "every_json_file1['area']=len(all)\n",
    "every_json_file1['bbox']=bbox\n",
    "every_json_file1['class_name']=class_name\n",
    "every_json_file1['distortion']=distortion"
   ]
  },
  {
   "cell_type": "code",
   "execution_count": 24,
   "metadata": {},
   "outputs": [],
   "source": [
    "with open('/Users/helenpeng/Desktop/img_in/7345.json', 'r') as f:\n",
    "    output = json.load(f)\n",
    "height, width = output['imageHeight'], output['imageWidth']\n",
    "# caption = output['image_text']\n",
    "name = output['imagePath'].split('.')[0]\n",
    "# 同一个mask分离成2块的就当做两个mask\n",
    "json_file={'annotations':[]}\n",
    "label_list=[]\n",
    "i=output['shapes'][2]\n",
    "every_json_file2={}\n",
    "poly = i['points']\n",
    "mask=poly2mask(poly,height,width)\n",
    "all=np.argwhere(mask != 0)\n",
    "x_1=np.min(all[:, 0]).item()\n",
    "y_1=np.min(all[:, 1]).item()\n",
    "x_2=np.max(all[:, 0]).item()\n",
    "y_2=np.max(all[:, 1]).item()\n",
    "bbox=[y_1,x_1,y_2,x_2]\n",
    "rle=singleMask2rle(mask)\n",
    "class_name, distortion = i['label'].split(';')[0],i['label'].split(';')[1:]\n",
    "every_json_file2['segmentation']=rle\n",
    "every_json_file2['area']=len(all)\n",
    "every_json_file2['bbox']=bbox\n",
    "every_json_file2['class_name']=class_name\n",
    "every_json_file2['distortion']=distortion"
   ]
  },
  {
   "cell_type": "code",
   "execution_count": 29,
   "metadata": {},
   "outputs": [],
   "source": [
    "with open('/Users/helenpeng/Desktop/img_in/7345.json', 'r') as f:\n",
    "    output = json.load(f)\n",
    "height, width = output['imageHeight'], output['imageWidth']\n",
    "# caption = output['image_text']\n",
    "name = output['imagePath'].split('.')[0]\n",
    "# 同一个mask分离成2块的就当做两个mask\n",
    "json_file={'annotations':[]}\n",
    "label_list=[]\n",
    "i=output['shapes'][3]\n",
    "every_json_file3={}\n",
    "poly = i['points']\n",
    "mask=poly2mask(poly,height,width)\n",
    "all=np.argwhere(mask != 0)\n",
    "x_1=np.min(all[:, 0]).item()\n",
    "y_1=np.min(all[:, 1]).item()\n",
    "x_2=np.max(all[:, 0]).item()\n",
    "y_2=np.max(all[:, 1]).item()\n",
    "bbox=[y_1,x_1,y_2,x_2]\n",
    "rle=singleMask2rle(mask)\n",
    "class_name, distortion = i['label'].split(';')[0],i['label'].split(';')[1:]\n",
    "every_json_file3['segmentation']=rle\n",
    "every_json_file3['area']=len(all)\n",
    "every_json_file3['bbox']=bbox\n",
    "every_json_file3['class_name']=class_name\n",
    "every_json_file3['distortion']=distortion"
   ]
  },
  {
   "cell_type": "code",
   "execution_count": 31,
   "metadata": {},
   "outputs": [],
   "source": [
    "im=Image.fromarray(all_mask*225)"
   ]
  },
  {
   "cell_type": "code",
   "execution_count": 32,
   "metadata": {},
   "outputs": [
    {
     "data": {
      "image/png": "[encoded data removed]",
      "text/plain": [
       "<PIL.Image.Image image mode=L size=1024x768>"
      ]
     },
     "execution_count": 32,
     "metadata": {},
     "output_type": "execute_result"
    }
   ],
   "source": [
    "im"
   ]
  },
  {
   "cell_type": "code",
   "execution_count": 30,
   "metadata": {},
   "outputs": [],
   "source": [
    "all_mask=maskUtils.decode(every_json_file['segmentation'])+maskUtils.decode(every_json_file1['segmentation'])+maskUtils.decode(every_json_file2['segmentation'])+maskUtils.decode(every_json_file3['segmentation'])"
   ]
  },
  {
   "cell_type": "code",
   "execution_count": 39,
   "metadata": {},
   "outputs": [],
   "source": [
    "all=np.argwhere(all_mask != 0)\n",
    "x_1=np.min(all[:, 0]).item()\n",
    "y_1=np.min(all[:, 1]).item()\n",
    "x_2=np.max(all[:, 0]).item()\n",
    "y_2=np.max(all[:, 1]).item()"
   ]
  },
  {
   "cell_type": "code",
   "execution_count": 40,
   "metadata": {},
   "outputs": [
    {
     "data": {
      "text/plain": [
       "[800, 467, 1022, 765]"
      ]
     },
     "execution_count": 40,
     "metadata": {},
     "output_type": "execute_result"
    }
   ],
   "source": [
    "[y_1,x_1,y_2,x_2]"
   ]
  },
  {
   "cell_type": "code",
   "execution_count": 3,
   "metadata": {},
   "outputs": [],
   "source": [
    "def poly2mask(points, height, width):\n",
    "    mask = np.zeros((height, width), dtype=np.int32)\n",
    "    obj = np.array([points], dtype=np.int32)\n",
    "    cv2.fillPoly(mask, obj, 1)\n",
    "    return mask\n",
    "\n",
    "\n",
    "def singleMask2rle(mask):\n",
    "    rle = maskUtils.encode(np.array(mask[:, :, None], order='F', dtype=\"uint8\"))[0]\n",
    "    rle[\"counts\"] = rle[\"counts\"].decode(\"utf-8\")\n",
    "    return rle"
   ]
  },
  {
   "cell_type": "code",
   "execution_count": null,
   "metadata": {},
   "outputs": [],
   "source": []
  }
 ],
 "metadata": {
  "kernelspec": {
   "display_name": "Python 3 (ipykernel)",
   "language": "python",
   "name": "python3"
  },
  "language_info": {
   "codemirror_mode": {
    "name": "ipython",
    "version": 3
   },
   "file_extension": ".py",
   "mimetype": "text/x-python",
   "name": "python",
   "nbconvert_exporter": "python",
   "pygments_lexer": "ipython3",
   "version": "3.10.9"
  }
 },
 "nbformat": 4,
 "nbformat_minor": 4
}
